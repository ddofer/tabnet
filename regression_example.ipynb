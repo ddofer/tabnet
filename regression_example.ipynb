{
 "cells": [
  {
   "cell_type": "code",
   "execution_count": 1,
   "metadata": {},
   "outputs": [],
   "source": [
    "from pytorch_tabnet.tab_model import TabNetRegressor\n",
    "\n",
    "import torch\n",
    "from sklearn.preprocessing import LabelEncoder\n",
    "from sklearn.metrics import mean_squared_error, roc_auc_score\n",
    "\n",
    "import pandas as pd\n",
    "import numpy as np\n",
    "np.random.seed(0)\n",
    "\n",
    "\n",
    "import os\n",
    "import wget\n",
    "from pathlib import Path"
   ]
  },
  {
   "cell_type": "markdown",
   "metadata": {},
   "source": [
    "# Download census-income dataset\n",
    "\n",
    "* Target is binary, if income is >= 50K or not.\n",
    "* Data source: https://archive.ics.uci.edu/ml/datasets/Census+Income"
   ]
  },
  {
   "cell_type": "code",
   "execution_count": 2,
   "metadata": {},
   "outputs": [],
   "source": [
    "url = \"https://archive.ics.uci.edu/ml/machine-learning-databases/adult/adult.data\"\n",
    "dataset_name = 'census-income'\n",
    "out = Path(os.getcwd()+'/data/'+dataset_name+'.csv')"
   ]
  },
  {
   "cell_type": "code",
   "execution_count": 3,
   "metadata": {},
   "outputs": [
    {
     "name": "stdout",
     "output_type": "stream",
     "text": [
      "File already exists.\n"
     ]
    }
   ],
   "source": [
    "out.parent.mkdir(parents=True, exist_ok=True)\n",
    "if out.exists():\n",
    "    print(\"File already exists.\")\n",
    "else:\n",
    "    print(\"Downloading file...\")\n",
    "    wget.download(url, out.as_posix())"
   ]
  },
  {
   "cell_type": "markdown",
   "metadata": {},
   "source": [
    "# Load data and split"
   ]
  },
  {
   "cell_type": "code",
   "execution_count": 4,
   "metadata": {},
   "outputs": [],
   "source": [
    "# column headers/feature names\n",
    "feature_names = [\"age\", \"workclass\", \"fnlwgt\", \n",
    "                        \"education\", \"education_num\", \n",
    "                        \"marital_status\", \"occupation\",\n",
    "                        \"relationship\", \"race\", \"sex\", \n",
    "                        \"capital_gain\", \"capital_loss\", \n",
    "                        \"hours_per_week\", \"native_country\", \"income\"]"
   ]
  },
  {
   "cell_type": "code",
   "execution_count": 5,
   "metadata": {},
   "outputs": [],
   "source": [
    "train = pd.read_csv(out,header=None,names=feature_names)\n",
    "target = \"income\" #' <=50K'\n",
    "if \"Set\" not in train.columns:\n",
    "    train[\"Set\"] = np.random.choice([\"train\", \"valid\", \"test\"], p =[.8, .1, .1], size=(train.shape[0],))\n",
    "\n",
    "train_indices = train[train.Set==\"train\"].index\n",
    "valid_indices = train[train.Set==\"valid\"].index\n",
    "test_indices = train[train.Set==\"test\"].index"
   ]
  },
  {
   "cell_type": "code",
   "execution_count": 6,
   "metadata": {},
   "outputs": [
    {
     "data": {
      "text/html": [
       "<div>\n",
       "<style scoped>\n",
       "    .dataframe tbody tr th:only-of-type {\n",
       "        vertical-align: middle;\n",
       "    }\n",
       "\n",
       "    .dataframe tbody tr th {\n",
       "        vertical-align: top;\n",
       "    }\n",
       "\n",
       "    .dataframe thead th {\n",
       "        text-align: right;\n",
       "    }\n",
       "</style>\n",
       "<table border=\"1\" class=\"dataframe\">\n",
       "  <thead>\n",
       "    <tr style=\"text-align: right;\">\n",
       "      <th></th>\n",
       "      <th>age</th>\n",
       "      <th>workclass</th>\n",
       "      <th>fnlwgt</th>\n",
       "      <th>education</th>\n",
       "      <th>education_num</th>\n",
       "      <th>marital_status</th>\n",
       "      <th>occupation</th>\n",
       "      <th>relationship</th>\n",
       "      <th>race</th>\n",
       "      <th>sex</th>\n",
       "      <th>capital_gain</th>\n",
       "      <th>capital_loss</th>\n",
       "      <th>hours_per_week</th>\n",
       "      <th>native_country</th>\n",
       "      <th>income</th>\n",
       "      <th>Set</th>\n",
       "    </tr>\n",
       "  </thead>\n",
       "  <tbody>\n",
       "    <tr>\n",
       "      <th>32556</th>\n",
       "      <td>27</td>\n",
       "      <td>Private</td>\n",
       "      <td>257302</td>\n",
       "      <td>Assoc-acdm</td>\n",
       "      <td>12</td>\n",
       "      <td>Married-civ-spouse</td>\n",
       "      <td>Tech-support</td>\n",
       "      <td>Wife</td>\n",
       "      <td>White</td>\n",
       "      <td>Female</td>\n",
       "      <td>0</td>\n",
       "      <td>0</td>\n",
       "      <td>38</td>\n",
       "      <td>United-States</td>\n",
       "      <td>&lt;=50K</td>\n",
       "      <td>valid</td>\n",
       "    </tr>\n",
       "    <tr>\n",
       "      <th>32557</th>\n",
       "      <td>40</td>\n",
       "      <td>Private</td>\n",
       "      <td>154374</td>\n",
       "      <td>HS-grad</td>\n",
       "      <td>9</td>\n",
       "      <td>Married-civ-spouse</td>\n",
       "      <td>Machine-op-inspct</td>\n",
       "      <td>Husband</td>\n",
       "      <td>White</td>\n",
       "      <td>Male</td>\n",
       "      <td>0</td>\n",
       "      <td>0</td>\n",
       "      <td>40</td>\n",
       "      <td>United-States</td>\n",
       "      <td>&gt;50K</td>\n",
       "      <td>train</td>\n",
       "    </tr>\n",
       "    <tr>\n",
       "      <th>32558</th>\n",
       "      <td>58</td>\n",
       "      <td>Private</td>\n",
       "      <td>151910</td>\n",
       "      <td>HS-grad</td>\n",
       "      <td>9</td>\n",
       "      <td>Widowed</td>\n",
       "      <td>Adm-clerical</td>\n",
       "      <td>Unmarried</td>\n",
       "      <td>White</td>\n",
       "      <td>Female</td>\n",
       "      <td>0</td>\n",
       "      <td>0</td>\n",
       "      <td>40</td>\n",
       "      <td>United-States</td>\n",
       "      <td>&lt;=50K</td>\n",
       "      <td>train</td>\n",
       "    </tr>\n",
       "    <tr>\n",
       "      <th>32559</th>\n",
       "      <td>22</td>\n",
       "      <td>Private</td>\n",
       "      <td>201490</td>\n",
       "      <td>HS-grad</td>\n",
       "      <td>9</td>\n",
       "      <td>Never-married</td>\n",
       "      <td>Adm-clerical</td>\n",
       "      <td>Own-child</td>\n",
       "      <td>White</td>\n",
       "      <td>Male</td>\n",
       "      <td>0</td>\n",
       "      <td>0</td>\n",
       "      <td>20</td>\n",
       "      <td>United-States</td>\n",
       "      <td>&lt;=50K</td>\n",
       "      <td>train</td>\n",
       "    </tr>\n",
       "    <tr>\n",
       "      <th>32560</th>\n",
       "      <td>52</td>\n",
       "      <td>Self-emp-inc</td>\n",
       "      <td>287927</td>\n",
       "      <td>HS-grad</td>\n",
       "      <td>9</td>\n",
       "      <td>Married-civ-spouse</td>\n",
       "      <td>Exec-managerial</td>\n",
       "      <td>Wife</td>\n",
       "      <td>White</td>\n",
       "      <td>Female</td>\n",
       "      <td>15024</td>\n",
       "      <td>0</td>\n",
       "      <td>40</td>\n",
       "      <td>United-States</td>\n",
       "      <td>&gt;50K</td>\n",
       "      <td>test</td>\n",
       "    </tr>\n",
       "  </tbody>\n",
       "</table>\n",
       "</div>"
      ],
      "text/plain": [
       "       age      workclass  fnlwgt    education  education_num  \\\n",
       "32556   27        Private  257302   Assoc-acdm             12   \n",
       "32557   40        Private  154374      HS-grad              9   \n",
       "32558   58        Private  151910      HS-grad              9   \n",
       "32559   22        Private  201490      HS-grad              9   \n",
       "32560   52   Self-emp-inc  287927      HS-grad              9   \n",
       "\n",
       "            marital_status          occupation relationship    race      sex  \\\n",
       "32556   Married-civ-spouse        Tech-support         Wife   White   Female   \n",
       "32557   Married-civ-spouse   Machine-op-inspct      Husband   White     Male   \n",
       "32558              Widowed        Adm-clerical    Unmarried   White   Female   \n",
       "32559        Never-married        Adm-clerical    Own-child   White     Male   \n",
       "32560   Married-civ-spouse     Exec-managerial         Wife   White   Female   \n",
       "\n",
       "       capital_gain  capital_loss  hours_per_week  native_country  income  \\\n",
       "32556             0             0              38   United-States   <=50K   \n",
       "32557             0             0              40   United-States    >50K   \n",
       "32558             0             0              40   United-States   <=50K   \n",
       "32559             0             0              20   United-States   <=50K   \n",
       "32560         15024             0              40   United-States    >50K   \n",
       "\n",
       "         Set  \n",
       "32556  valid  \n",
       "32557  train  \n",
       "32558  train  \n",
       "32559  train  \n",
       "32560   test  "
      ]
     },
     "execution_count": 6,
     "metadata": {},
     "output_type": "execute_result"
    }
   ],
   "source": [
    "train.tail()"
   ]
  },
  {
   "cell_type": "markdown",
   "metadata": {},
   "source": [
    "# Simple preprocessing\n",
    "\n",
    "Label encode categorical features and fill empty cells."
   ]
  },
  {
   "cell_type": "code",
   "execution_count": 7,
   "metadata": {},
   "outputs": [
    {
     "name": "stdout",
     "output_type": "stream",
     "text": [
      "workclass 9\n",
      "education 16\n",
      "marital_status 7\n",
      "occupation 15\n",
      "relationship 6\n",
      "race 5\n",
      "sex 2\n",
      "native_country 42\n",
      "income 2\n",
      "Set 3\n"
     ]
    }
   ],
   "source": [
    "categorical_columns = []\n",
    "categorical_dims =  {}\n",
    "for col in train.columns[train.dtypes == object]:\n",
    "    print(col, train[col].nunique())\n",
    "    l_enc = LabelEncoder()\n",
    "    train[col] = train[col].fillna(\"VV_likely\")\n",
    "    train[col] = l_enc.fit_transform(train[col].values)\n",
    "    categorical_columns.append(col)\n",
    "    categorical_dims[col] = len(l_enc.classes_)\n",
    "\n",
    "for col in train.columns[train.dtypes == 'float64']:\n",
    "    train.fillna(train.loc[train_indices, col].mean(), inplace=True)"
   ]
  },
  {
   "cell_type": "markdown",
   "metadata": {},
   "source": [
    "# Define categorical features for categorical embeddings"
   ]
  },
  {
   "cell_type": "code",
   "execution_count": 8,
   "metadata": {},
   "outputs": [],
   "source": [
    "unused_feat = ['Set']\n",
    "\n",
    "features = [ col for col in train.columns if col not in unused_feat+[target]] \n",
    "\n",
    "cat_idxs = [ i for i, f in enumerate(features) if f in categorical_columns]\n",
    "\n",
    "# cat_dims = number of unique values in variable/column\n",
    "cat_dims = [ categorical_dims[f] for i, f in enumerate(features) if f in categorical_columns]\n",
    "\n",
    "# define your embedding sizes : A good heuristic is half the # of unique values, up to a maximum of 50. Here our variables have low cardinality. Note that `Set` isn't a feature\n",
    "cat_emb_dim = [min(v//2+1,50) for v in categorical_dims.values()][:-2] # last 2 variables are target and Set indicator\n",
    "# print(\"categoricals embeddings dimensions:\",cat_emb_dim) ## [5, 9, 4, 8, 4, 3, 2, 22]"
   ]
  },
  {
   "cell_type": "markdown",
   "metadata": {},
   "source": [
    "# Network parameters"
   ]
  },
  {
   "cell_type": "code",
   "execution_count": 9,
   "metadata": {},
   "outputs": [
    {
     "name": "stdout",
     "output_type": "stream",
     "text": [
      "Device used : cuda\n"
     ]
    }
   ],
   "source": [
    "clf = TabNetRegressor(cat_dims=cat_dims, cat_emb_dim=cat_emb_dim, cat_idxs=cat_idxs)"
   ]
  },
  {
   "cell_type": "markdown",
   "metadata": {},
   "source": [
    "# Training"
   ]
  },
  {
   "cell_type": "code",
   "execution_count": 10,
   "metadata": {},
   "outputs": [],
   "source": [
    "X_train = train[features].values[train_indices]\n",
    "y_train = train[target].values[train_indices].reshape(-1, 1)\n",
    "\n",
    "X_valid = train[features].values[valid_indices]\n",
    "y_valid = train[target].values[valid_indices].reshape(-1, 1)\n",
    "\n",
    "X_test = train[features].values[test_indices]\n",
    "y_test = train[target].values[test_indices].reshape(-1, 1)"
   ]
  },
  {
   "cell_type": "code",
   "execution_count": 11,
   "metadata": {},
   "outputs": [],
   "source": [
    "max_epochs = 1000 if not os.getenv(\"CI\", False) else 2"
   ]
  },
  {
   "cell_type": "code",
   "execution_count": 12,
   "metadata": {
    "scrolled": true
   },
   "outputs": [
    {
     "name": "stdout",
     "output_type": "stream",
     "text": [
      "Will train until validation stopping metric hasn't improved in 50 rounds.\n",
      "---------------------------------------\n",
      "| EPOCH |  train  |   valid  | total time (s)\n",
      "| 1     | -0.31946 |  -0.17994 |   4.8       \n",
      "| 2     | -0.15280 |  -0.32955 |   8.4       \n",
      "| 3     | -0.13622 |  -0.26676 |   12.1      \n",
      "| 4     | -0.13178 |  -0.22621 |   15.7      \n",
      "| 5     | -0.12743 |  -0.20013 |   19.3      \n",
      "| 6     | -0.12709 |  -0.15417 |   22.8      \n",
      "| 7     | -0.12471 |  -0.12461 |   26.4      \n",
      "| 8     | -0.12268 |  -0.12380 |   29.9      \n",
      "| 9     | -0.12287 |  -0.12278 |   33.5      \n",
      "| 10    | -0.12107 |  -0.12182 |   37.2      \n",
      "| 11    | -0.11992 |  -0.11989 |   41.2      \n",
      "| 12    | -0.11934 |  -0.11802 |   45.0      \n",
      "| 13    | -0.11818 |  -0.11708 |   48.7      \n",
      "| 14    | -0.11712 |  -0.11724 |   52.5      \n",
      "| 15    | -0.11562 |  -0.11608 |   56.2      \n",
      "| 16    | -0.11361 |  -0.11428 |   59.8      \n",
      "| 17    | -0.11349 |  -0.11216 |   63.4      \n",
      "| 18    | -0.11163 |  -0.11118 |   67.0      \n",
      "| 19    | -0.11023 |  -0.11044 |   70.6      \n",
      "| 20    | -0.11005 |  -0.11240 |   74.2      \n",
      "| 21    | -0.10950 |  -0.11043 |   77.8      \n",
      "| 22    | -0.10838 |  -0.11056 |   81.5      \n",
      "| 23    | -0.10704 |  -0.10722 |   85.1      \n",
      "| 24    | -0.10609 |  -0.10643 |   88.7      \n",
      "| 25    | -0.10508 |  -0.10618 |   92.3      \n",
      "| 26    | -0.10518 |  -0.10624 |   95.9      \n",
      "| 27    | -0.10402 |  -0.10610 |   100.0     \n",
      "| 28    | -0.10509 |  -0.10776 |   103.9     \n",
      "| 29    | -0.10451 |  -0.10706 |   107.7     \n",
      "| 30    | -0.10430 |  -0.10748 |   111.3     \n",
      "| 31    | -0.10335 |  -0.10498 |   115.0     \n",
      "| 32    | -0.10347 |  -0.10401 |   118.6     \n",
      "| 33    | -0.10415 |  -0.10970 |   122.2     \n",
      "| 34    | -0.10325 |  -0.10343 |   125.8     \n",
      "| 35    | -0.10224 |  -0.10254 |   129.6     \n",
      "| 36    | -0.10183 |  -0.10756 |   133.3     \n",
      "| 37    | -0.10136 |  -0.10426 |   137.3     \n",
      "| 38    | -0.10178 |  -0.10708 |   141.2     \n",
      "| 39    | -0.10169 |  -0.10356 |   144.8     \n",
      "| 40    | -0.10119 |  -0.10452 |   148.5     \n",
      "| 41    | -0.10125 |  -0.10319 |   152.4     \n",
      "| 42    | -0.10063 |  -0.10220 |   156.1     \n",
      "| 43    | -0.10256 |  -0.10303 |   159.8     \n",
      "| 44    | -0.10225 |  -0.10408 |   163.5     \n",
      "| 45    | -0.10148 |  -0.10433 |   167.4     \n",
      "| 46    | -0.10156 |  -0.10320 |   171.1     \n",
      "| 47    | -0.10021 |  -0.10196 |   174.9     \n",
      "| 48    | -0.09982 |  -0.10393 |   178.7     \n",
      "| 49    | -0.09998 |  -0.10265 |   182.6     \n",
      "| 50    | -0.10100 |  -0.10246 |   186.3     \n",
      "| 51    | -0.09985 |  -0.10269 |   190.0     \n",
      "| 52    | -0.10201 |  -0.10418 |   193.6     \n",
      "| 53    | -0.10089 |  -0.10423 |   197.3     \n",
      "| 54    | -0.09990 |  -0.10446 |   201.1     \n",
      "| 55    | -0.10003 |  -0.10317 |   204.7     \n",
      "| 56    | -0.09980 |  -0.10336 |   208.3     \n",
      "| 57    | -0.09939 |  -0.10587 |   211.9     \n",
      "| 58    | -0.09933 |  -0.10481 |   215.5     \n",
      "| 59    | -0.09974 |  -0.10273 |   219.2     \n",
      "| 60    | -0.09997 |  -0.10355 |   223.0     \n",
      "| 61    | -0.09924 |  -0.10179 |   227.1     \n",
      "| 62    | -0.09978 |  -0.10190 |   230.8     \n",
      "| 63    | -0.09989 |  -0.10237 |   234.8     \n",
      "| 64    | -0.09990 |  -0.10196 |   238.5     \n",
      "| 65    | -0.09863 |  -0.10206 |   242.2     \n",
      "| 66    | -0.09905 |  -0.10270 |   245.8     \n",
      "| 67    | -0.09848 |  -0.10377 |   249.3     \n",
      "| 68    | -0.10012 |  -0.10690 |   253.0     \n",
      "| 69    | -0.10193 |  -0.10218 |   256.7     \n",
      "| 70    | -0.09998 |  -0.10064 |   260.4     \n",
      "| 71    | -0.09885 |  -0.10292 |   264.1     \n",
      "| 72    | -0.09892 |  -0.10229 |   267.7     \n",
      "| 73    | -0.09881 |  -0.10201 |   271.3     \n",
      "| 74    | -0.09781 |  -0.10280 |   275.0     \n",
      "| 75    | -0.09735 |  -0.10137 |   278.6     \n",
      "| 76    | -0.09808 |  -0.10501 |   282.4     \n",
      "| 77    | -0.09801 |  -0.10157 |   286.5     \n",
      "| 78    | -0.09794 |  -0.10125 |   290.4     \n",
      "| 79    | -0.09792 |  -0.10127 |   294.2     \n",
      "| 80    | -0.10004 |  -0.10365 |   298.0     \n",
      "| 81    | -0.09997 |  -0.10369 |   301.8     \n",
      "| 82    | -0.09867 |  -0.10180 |   305.7     \n",
      "| 83    | -0.09917 |  -0.10155 |   309.6     \n",
      "| 84    | -0.09833 |  -0.10008 |   313.5     \n",
      "| 85    | -0.09717 |  -0.10084 |   317.2     \n",
      "| 86    | -0.09712 |  -0.10194 |   320.9     \n",
      "| 87    | -0.09689 |  -0.10034 |   324.9     \n",
      "| 88    | -0.09689 |  -0.09968 |   328.9     \n",
      "| 89    | -0.09652 |  -0.10238 |   332.8     \n",
      "| 90    | -0.09648 |  -0.10201 |   336.4     \n",
      "| 91    | -0.09613 |  -0.10137 |   340.1     \n",
      "| 92    | -0.09700 |  -0.10086 |   343.9     \n",
      "| 93    | -0.09597 |  -0.10283 |   347.5     \n",
      "| 94    | -0.09557 |  -0.10155 |   351.1     \n",
      "| 95    | -0.09695 |  -0.10242 |   354.7     \n",
      "| 96    | -0.09673 |  -0.10260 |   358.3     \n",
      "| 97    | -0.09817 |  -0.10203 |   362.0     \n",
      "| 98    | -0.09812 |  -0.10159 |   365.6     \n",
      "| 99    | -0.09810 |  -0.10062 |   369.3     \n",
      "| 100   | -0.09764 |  -0.10309 |   372.9     \n",
      "| 101   | -0.09749 |  -0.10256 |   376.6     \n",
      "| 102   | -0.09742 |  -0.10117 |   380.2     \n",
      "| 103   | -0.09681 |  -0.10163 |   383.8     \n",
      "| 104   | -0.09630 |  -0.10174 |   387.4     \n",
      "| 105   | -0.09596 |  -0.10151 |   391.0     \n",
      "| 106   | -0.09614 |  -0.10034 |   394.8     \n",
      "| 107   | -0.09523 |  -0.10210 |   398.5     \n",
      "| 108   | -0.09453 |  -0.09970 |   402.3     \n",
      "| 109   | -0.09429 |  -0.10152 |   405.9     \n",
      "| 110   | -0.09388 |  -0.10249 |   409.5     \n",
      "| 111   | -0.09395 |  -0.10333 |   413.2     \n",
      "| 112   | -0.09488 |  -0.10188 |   416.9     \n",
      "| 113   | -0.09454 |  -0.10256 |   420.5     \n",
      "| 114   | -0.09423 |  -0.10288 |   424.1     \n",
      "| 115   | -0.09376 |  -0.10074 |   427.8     \n",
      "| 116   | -0.09438 |  -0.10271 |   431.5     \n",
      "| 117   | -0.09545 |  -0.10095 |   435.1     \n",
      "| 118   | -0.09458 |  -0.10152 |   438.6     \n",
      "| 119   | -0.09387 |  -0.10305 |   442.3     \n",
      "| 120   | -0.09325 |  -0.10241 |   445.8     \n",
      "| 121   | -0.09296 |  -0.10279 |   449.5     \n",
      "| 122   | -0.09343 |  -0.10315 |   453.2     \n",
      "| 123   | -0.09531 |  -0.10103 |   456.8     \n",
      "| 124   | -0.09459 |  -0.10125 |   460.5     \n",
      "| 125   | -0.09273 |  -0.10181 |   464.2     \n",
      "| 126   | -0.09285 |  -0.10089 |   467.9     \n",
      "| 127   | -0.09228 |  -0.10276 |   471.7     \n",
      "| 128   | -0.09285 |  -0.10120 |   475.4     \n",
      "| 129   | -0.09184 |  -0.10286 |   479.1     \n",
      "| 130   | -0.09256 |  -0.10405 |   482.9     \n",
      "| 131   | -0.09177 |  -0.10313 |   486.5     \n",
      "| 132   | -0.09206 |  -0.10276 |   490.1     \n",
      "| 133   | -0.09148 |  -0.10407 |   493.8     \n",
      "| 134   | -0.09167 |  -0.10524 |   497.5     \n",
      "| 135   | -0.09093 |  -0.10417 |   501.1     \n",
      "| 136   | -0.09172 |  -0.10197 |   504.8     \n",
      "| 137   | -0.09049 |  -0.10340 |   508.5     \n",
      "| 138   | -0.09086 |  -0.10326 |   512.2     \n",
      "Early stopping occured at epoch 138\n",
      "Training done in 512.241 seconds.\n",
      "---------------------------------------\n"
     ]
    }
   ],
   "source": [
    "clf.fit(\n",
    "    X_train=X_train, y_train=y_train,\n",
    "    X_valid=X_valid, y_valid=y_valid,\n",
    "    max_epochs=max_epochs,\n",
    "    patience=50,\n",
    "    batch_size=1024, virtual_batch_size=128,\n",
    ") "
   ]
  },
  {
   "cell_type": "code",
   "execution_count": 13,
   "metadata": {},
   "outputs": [
    {
     "name": "stdout",
     "output_type": "stream",
     "text": [
      "BEST VALID SCORE FOR census-income : 0.0996807\n",
      "FINAL TEST SCORE FOR census-income : 0.100988\n"
     ]
    }
   ],
   "source": [
    "# Best model is automatically loaded at end of fit\n",
    "preds = clf.predict(X_test)\n",
    "\n",
    "test_score = mean_squared_error(y_pred=preds, y_true=y_test)\n",
    "\n",
    "print(f\"BEST VALID SCORE FOR {dataset_name} : {clf.best_cost:.6}\")\n",
    "print(f\"FINAL TEST SCORE FOR {dataset_name} : {test_score:.6}\")"
   ]
  },
  {
   "cell_type": "markdown",
   "metadata": {},
   "source": [
    "# Global explainability : feat importance summing to 1"
   ]
  },
  {
   "cell_type": "code",
   "execution_count": 14,
   "metadata": {},
   "outputs": [
    {
     "data": {
      "text/plain": [
       "array([3.25987229e-06, 5.63586695e-03, 1.21311484e-03, 1.26350003e-02,\n",
       "       1.27364044e-01, 5.38086823e-02, 1.52821290e-01, 1.89732903e-01,\n",
       "       2.07340671e-04, 7.46324999e-03, 2.67158208e-01, 1.47141967e-01,\n",
       "       0.00000000e+00, 3.48150732e-02])"
      ]
     },
     "execution_count": 14,
     "metadata": {},
     "output_type": "execute_result"
    }
   ],
   "source": [
    "clf.feature_importances_"
   ]
  },
  {
   "cell_type": "code",
   "execution_count": 15,
   "metadata": {},
   "outputs": [
    {
     "data": {
      "text/plain": [
       "capital_gain      0.267158\n",
       "relationship      0.189733\n",
       "occupation        0.152821\n",
       "capital_loss      0.147142\n",
       "education_num     0.127364\n",
       "marital_status    0.053809\n",
       "native_country    0.034815\n",
       "education         0.012635\n",
       "sex               0.007463\n",
       "workclass         0.005636\n",
       "fnlwgt            0.001213\n",
       "race              0.000207\n",
       "age               0.000003\n",
       "hours_per_week    0.000000\n",
       "dtype: float64"
      ]
     },
     "metadata": {},
     "output_type": "display_data"
    }
   ],
   "source": [
    "important_features = pd.Series(data=clf.feature_importances_,index=train.columns[:-2])\n",
    "important_features.sort_values(ascending=False,inplace=True)\n",
    "\n",
    "display(important_features.sort_values(ascending=False))"
   ]
  },
  {
   "cell_type": "markdown",
   "metadata": {},
   "source": [
    "# Local explainability and masks"
   ]
  },
  {
   "cell_type": "code",
   "execution_count": 16,
   "metadata": {},
   "outputs": [],
   "source": [
    "explain_matrix, masks = clf.explain(X_test)"
   ]
  },
  {
   "cell_type": "code",
   "execution_count": 17,
   "metadata": {},
   "outputs": [],
   "source": [
    "from matplotlib import pyplot as plt\n",
    "%matplotlib inline"
   ]
  },
  {
   "cell_type": "code",
   "execution_count": 18,
   "metadata": {},
   "outputs": [
    {
     "data": {
      "image/png": "[encoded data removed]",
      "text/plain": [
       "<Figure size 1440x1440 with 3 Axes>"
      ]
     },
     "metadata": {
      "needs_background": "light"
     },
     "output_type": "display_data"
    }
   ],
   "source": [
    "fig, axs = plt.subplots(1, 3, figsize=(20,20))\n",
    "\n",
    "for i in range(3):\n",
    "    axs[i].imshow(masks[i][:50])\n",
    "    axs[i].set_title(f\"mask {i}\")\n"
   ]
  },
  {
   "cell_type": "markdown",
   "metadata": {},
   "source": [
    "# XGB"
   ]
  },
  {
   "cell_type": "code",
   "execution_count": 19,
   "metadata": {
    "scrolled": true
   },
   "outputs": [
    {
     "name": "stdout",
     "output_type": "stream",
     "text": [
      "[0]\tvalidation_0-rmse:0.47080\n",
      "Will train until validation_0-rmse hasn't improved in 40 rounds.\n",
      "[10]\tvalidation_0-rmse:0.33410\n",
      "[20]\tvalidation_0-rmse:0.30905\n",
      "[30]\tvalidation_0-rmse:0.30451\n",
      "[40]\tvalidation_0-rmse:0.30464\n",
      "[50]\tvalidation_0-rmse:0.30487\n",
      "[60]\tvalidation_0-rmse:0.30534\n",
      "[70]\tvalidation_0-rmse:0.30523\n",
      "Stopping. Best iteration:\n",
      "[34]\tvalidation_0-rmse:0.30411\n",
      "\n"
     ]
    },
    {
     "data": {
      "text/plain": [
       "XGBRegressor(base_score=0.5, booster='gbtree', colsample_bylevel=1,\n",
       "             colsample_bynode=1, colsample_bytree=1, gamma=0, gpu_id=-1,\n",
       "             importance_type='gain', interaction_constraints=None,\n",
       "             learning_rate=0.1, max_delta_step=0, max_depth=8,\n",
       "             min_child_weight=1, missing=nan, monotone_constraints=None,\n",
       "             n_estimators=1000, n_jobs=-1, num_parallel_tree=1,\n",
       "             objective='reg:linear', random_state=0, reg_alpha=0, reg_lambda=1,\n",
       "             scale_pos_weight=1, seed=0, silent=None, subsample=0.7,\n",
       "             tree_method=None, validate_parameters=False, verbosity=0)"
      ]
     },
     "execution_count": 19,
     "metadata": {},
     "output_type": "execute_result"
    }
   ],
   "source": [
    "from xgboost import XGBRegressor\n",
    "\n",
    "clf_xgb = XGBRegressor(max_depth=8,\n",
    "    learning_rate=0.1,\n",
    "    n_estimators=1000,\n",
    "    verbosity=0,\n",
    "    silent=None,\n",
    "    objective='reg:linear',\n",
    "    booster='gbtree',\n",
    "    n_jobs=-1,\n",
    "    gamma=0,\n",
    "    min_child_weight=1,\n",
    "    max_delta_step=0,\n",
    "    subsample=0.7,\n",
    "    colsample_bytree=1,\n",
    "    colsample_bylevel=1,\n",
    "    colsample_bynode=1,\n",
    "    reg_alpha=0,\n",
    "    reg_lambda=1,\n",
    "    random_state=0,\n",
    "    seed=None,)\n",
    "\n",
    "clf_xgb.fit(X_train, y_train,\n",
    "        eval_set=[(X_valid, y_valid)],\n",
    "        early_stopping_rounds=40,\n",
    "        verbose=10)"
   ]
  },
  {
   "cell_type": "markdown",
   "metadata": {},
   "source": [
    "##### XGBoost model results evaluation"
   ]
  },
  {
   "cell_type": "code",
   "execution_count": 20,
   "metadata": {},
   "outputs": [
    {
     "name": "stdout",
     "output_type": "stream",
     "text": [
      "0.09248\n",
      "0.09244\n"
     ]
    }
   ],
   "source": [
    "preds = np.array(clf_xgb.predict(X_valid))\n",
    "valid_mse = mean_squared_error(y_pred=preds, y_true=y_valid)\n",
    "print(round(valid_mse,5))\n",
    "\n",
    "preds = np.array(clf_xgb.predict(X_test))\n",
    "test_mse = mean_squared_error(y_pred=preds, y_true=y_test)\n",
    "print(round(test_mse,5))"
   ]
  }
 ],
 "metadata": {
  "kernelspec": {
   "display_name": "Python 3",
   "language": "python",
   "name": "python3"
  },
  "language_info": {
   "codemirror_mode": {
    "name": "ipython",
    "version": 3
   },
   "file_extension": ".py",
   "mimetype": "text/x-python",
   "name": "python",
   "nbconvert_exporter": "python",
   "pygments_lexer": "ipython3",
   "version": "3.7.7"
  }
 },
 "nbformat": 4,
 "nbformat_minor": 2
}
